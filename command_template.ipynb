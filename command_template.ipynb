{
  "nbformat": 4,
  "nbformat_minor": 0,
  "metadata": {
    "colab": {
      "name": "command_template.ipynb",
      "provenance": [],
      "authorship_tag": "ABX9TyM3vNPOMoVmquJ2AQZO/Rbo",
      "include_colab_link": true
    },
    "kernelspec": {
      "name": "python3",
      "display_name": "Python 3"
    }
  },
  "cells": [
    {
      "cell_type": "markdown",
      "metadata": {
        "id": "view-in-github",
        "colab_type": "text"
      },
      "source": [
        "<a href=\"https://colab.research.google.com/github/r-gamma/colab_command_template/blob/main/command_template.ipynb\" target=\"_parent\"><img src=\"https://colab.research.google.com/assets/colab-badge.svg\" alt=\"Open In Colab\"/></a>"
      ]
    },
    {
      "cell_type": "markdown",
      "metadata": {
        "id": "lfoRab5Yq2Sm"
      },
      "source": [
        "[参照]\n",
        "https://webbigdata.jp/ai/post-7232\n",
        "\n",
        "ショートカット  \n",
        "ショートカット一覧:ctrl + m h  \n",
        "検索して置換：ctrl + h.  \n",
        "上にコードセルを挿入：ctrl + m a.  \n",
        "下にコードセルを挿入：ctrl + m b.  \n",
        "\n",
        "colabの切断を拒否するためのJSコード。コンソールに貼り付ける。  \n",
        "\n",
        "\n",
        "> function KeepClicking(){  \n",
        "> console.log(\"Clicking\");  \n",
        "> document.querySelector(\"colab-connect-button\").click()  \n",
        "> }  \n",
        "> setInterval(KeepClicking,60000)"
      ]
    },
    {
      "cell_type": "code",
      "metadata": {
        "id": "GytHiItUMDL5"
      },
      "source": [
        "!nvidia-smi"
      ],
      "execution_count": null,
      "outputs": []
    },
    {
      "cell_type": "code",
      "metadata": {
        "id": "Hq9ICCBwJnEK"
      },
      "source": [
        "from google.colab import drive \n",
        "drive.mount('/content/drive')"
      ],
      "execution_count": null,
      "outputs": []
    },
    {
      "cell_type": "code",
      "metadata": {
        "id": "r1xU2MsDs9gW"
      },
      "source": [
        "!pip list"
      ],
      "execution_count": null,
      "outputs": []
    },
    {
      "cell_type": "code",
      "metadata": {
        "id": "pflvZJXwLGZ7"
      },
      "source": [
        "# !はシェルを実行するが値を返さない。%は実行した上で値を返す。\n",
        "%cd /content/drive"
      ],
      "execution_count": null,
      "outputs": []
    },
    {
      "cell_type": "code",
      "metadata": {
        "id": "MCrp6O7UKwNG"
      },
      "source": [
        "%lsmagic"
      ],
      "execution_count": null,
      "outputs": []
    },
    {
      "cell_type": "code",
      "metadata": {
        "id": "Vhq5zseCN8qX"
      },
      "source": [
        "!apt-get install screenfetch"
      ],
      "execution_count": null,
      "outputs": []
    },
    {
      "cell_type": "code",
      "metadata": {
        "id": "7da3AoD8N6k0"
      },
      "source": [
        "!screenfetch"
      ],
      "execution_count": null,
      "outputs": []
    },
    {
      "cell_type": "code",
      "metadata": {
        "id": "0ObS8u9Quv0J"
      },
      "source": [
        "!mkdir tmp\n",
        "%cd /tmp/"
      ],
      "execution_count": null,
      "outputs": []
    },
    {
      "cell_type": "code",
      "metadata": {
        "id": "3KUlxTcmqUJJ"
      },
      "source": [
        "from google.colab import files\n",
        "files.upload()"
      ],
      "execution_count": null,
      "outputs": []
    },
    {
      "cell_type": "code",
      "metadata": {
        "id": "j63VkR5OKLf6"
      },
      "source": [
        "from google.colab import files\n",
        "files.download('filename')"
      ],
      "execution_count": null,
      "outputs": []
    },
    {
      "cell_type": "markdown",
      "metadata": {
        "id": "0X0m2mS8wrXj"
      },
      "source": [
        "colabリンクの貼り方\n",
        "\n",
        "[![Open In Colab](https://colab.research.google.com/assets/colab-badge.svg)](https://colab.research.google.com/github/googlecolab/colabtools/blob/master/notebooks/colab-github-demo.ipynb)"
      ]
    },
    {
      "cell_type": "code",
      "metadata": {
        "id": "yapme1g1pCIc"
      },
      "source": [
        "%load_ext google.colab.data_table"
      ],
      "execution_count": null,
      "outputs": []
    },
    {
      "cell_type": "code",
      "metadata": {
        "id": "8g-EqRWUpEb4"
      },
      "source": [
        "from vega_datasets import data\n",
        "data.airports()"
      ],
      "execution_count": null,
      "outputs": []
    },
    {
      "cell_type": "markdown",
      "metadata": {
        "id": "HJSBAQ15E69O"
      },
      "source": [
        "以下Flaskを使用するデモ"
      ]
    },
    {
      "cell_type": "code",
      "metadata": {
        "id": "biL4HoNzCt_N"
      },
      "source": [
        "!wget https://bin.equinox.io/c/4VmDzA7iaHb/ngrok-stable-linux-amd64.zip\n",
        "!unzip ngrok-stable-linux-amd64.zip\n",
        "\n",
        "get_ipython().system_raw('./ngrok http 6006 &')\n"
      ],
      "execution_count": null,
      "outputs": []
    },
    {
      "cell_type": "code",
      "metadata": {
        "id": "9c2YaDe9Ea1P"
      },
      "source": [
        "! curl -s http://localhost:4040/api/tunnels | python3 -c \\\n",
        "    \"import sys, json; print(json.load(sys.stdin)['tunnels'][0]['public_url'])\""
      ],
      "execution_count": null,
      "outputs": []
    },
    {
      "cell_type": "code",
      "metadata": {
        "id": "GJ8XiZzIDW9R"
      },
      "source": [
        "import os\n",
        "\n",
        "html = \"\"\"\n",
        "<!DOCTYPE html>\n",
        "<html>\n",
        "<head>\n",
        "<meta charset=\"utf-8\" />\n",
        "</head>\n",
        "<body>\n",
        "\n",
        "\\ｺﾝﾆﾁﾊ/\n",
        "\n",
        "</body>\n",
        "</html>\n",
        "\"\"\"\n",
        "\n",
        "#Saving html file\n",
        "if not os.path.isdir( \"templates\" ):\n",
        "    os.makedirs( \"templates\" )\n",
        "with open(\"templates/index.html\", mode='w') as f:\n",
        "    f.write(html)"
      ],
      "execution_count": 26,
      "outputs": []
    },
    {
      "cell_type": "code",
      "metadata": {
        "id": "H4wvoHeSD1vK"
      },
      "source": [
        "from flask import Flask, render_template\n",
        "\n",
        "app = Flask(__name__)\n",
        "\n",
        "@app.route(\"/\")\n",
        "def index():\n",
        "    return render_template( \"index.html\" )\n",
        "\n",
        "if __name__ == '__main__':\n",
        "    app.run(port=6006)"
      ],
      "execution_count": null,
      "outputs": []
    }
  ]
}